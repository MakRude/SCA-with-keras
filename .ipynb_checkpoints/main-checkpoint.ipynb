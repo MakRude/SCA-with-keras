{
 "cells": [
  {
   "cell_type": "code",
   "execution_count": 2,
   "metadata": {},
   "outputs": [
    {
     "ename": "ModuleNotFoundError",
     "evalue": "No module named 'chipwhisperer'",
     "output_type": "error",
     "traceback": [
      "\u001b[0;31m---------------------------------------------------------------------------\u001b[0m",
      "\u001b[0;31mModuleNotFoundError\u001b[0m                       Traceback (most recent call last)",
      "\u001b[0;32m<ipython-input-2-68cf83bda482>\u001b[0m in \u001b[0;36m<module>\u001b[0;34m\u001b[0m\n\u001b[1;32m     12\u001b[0m \u001b[0;34m\u001b[0m\u001b[0m\n\u001b[1;32m     13\u001b[0m \u001b[0;31m# load data\u001b[0m\u001b[0;34m\u001b[0m\u001b[0;34m\u001b[0m\u001b[0;34m\u001b[0m\u001b[0m\n\u001b[0;32m---> 14\u001b[0;31m \u001b[0;32mfrom\u001b[0m \u001b[0mtraining_modules\u001b[0m\u001b[0;34m.\u001b[0m\u001b[0mload_data\u001b[0m \u001b[0;32mimport\u001b[0m \u001b[0mDATA_LOADER\u001b[0m\u001b[0;34m\u001b[0m\u001b[0;34m\u001b[0m\u001b[0m\n\u001b[0m\u001b[1;32m     15\u001b[0m \u001b[0;31m# handling files\u001b[0m\u001b[0;34m\u001b[0m\u001b[0;34m\u001b[0m\u001b[0;34m\u001b[0m\u001b[0m\n\u001b[1;32m     16\u001b[0m \u001b[0;32mfrom\u001b[0m \u001b[0mtraining_modules\u001b[0m\u001b[0;34m.\u001b[0m\u001b[0mhandling_saving_stats\u001b[0m \u001b[0;32mimport\u001b[0m \u001b[0mget_file_path\u001b[0m\u001b[0;34m,\u001b[0m \u001b[0msave_history\u001b[0m\u001b[0;34m,\u001b[0m \u001b[0mcalc_tst_acc\u001b[0m\u001b[0;34m,\u001b[0m \u001b[0mcalc_advantage\u001b[0m\u001b[0;34m,\u001b[0m \u001b[0msave_file\u001b[0m\u001b[0;34m,\u001b[0m \u001b[0mdisplay_results\u001b[0m\u001b[0;34m\u001b[0m\u001b[0;34m\u001b[0m\u001b[0m\n",
      "\u001b[0;32m~/SCA-with-keras/training_modules/load_data.py\u001b[0m in \u001b[0;36m<module>\u001b[0;34m\u001b[0m\n\u001b[1;32m      6\u001b[0m \u001b[0;32mimport\u001b[0m \u001b[0mnumpy\u001b[0m \u001b[0;32mas\u001b[0m \u001b[0mnp\u001b[0m\u001b[0;34m\u001b[0m\u001b[0;34m\u001b[0m\u001b[0m\n\u001b[1;32m      7\u001b[0m \u001b[0;31m## load cw data\u001b[0m\u001b[0;34m\u001b[0m\u001b[0;34m\u001b[0m\u001b[0;34m\u001b[0m\u001b[0m\n\u001b[0;32m----> 8\u001b[0;31m \u001b[0;32mimport\u001b[0m \u001b[0mchipwhisperer\u001b[0m \u001b[0;32mas\u001b[0m \u001b[0mcw\u001b[0m\u001b[0;34m\u001b[0m\u001b[0;34m\u001b[0m\u001b[0m\n\u001b[0m\u001b[1;32m      9\u001b[0m \u001b[0;31m## load ASCAD data\u001b[0m\u001b[0;34m\u001b[0m\u001b[0;34m\u001b[0m\u001b[0;34m\u001b[0m\u001b[0m\n\u001b[1;32m     10\u001b[0m \u001b[0;32mimport\u001b[0m \u001b[0mh5py\u001b[0m\u001b[0;34m\u001b[0m\u001b[0;34m\u001b[0m\u001b[0m\n",
      "\u001b[0;31mModuleNotFoundError\u001b[0m: No module named 'chipwhisperer'"
     ]
    }
   ],
   "source": [
    "# General modules\n",
    "import sys\n",
    "import os\n",
    "import os.path\n",
    "from pathlib import Path # creating directories\n",
    "\n",
    "# math modules\n",
    "import numpy as np\n",
    "import tensorflow as tf # used for random seed and setting GPU\n",
    "## math random seed module\n",
    "import random as python_random\n",
    "\n",
    "# load data\n",
    "from training_modules.load_data import DATA_LOADER\n",
    "# handling files\n",
    "from training_modules.handling_saving_stats import get_file_path, save_history, calc_tst_acc, calc_advantage, save_file, display_results\n",
    "\n",
    "from tensorflow import keras\n",
    "from keras.models import load_model # for loading a pre-trained key model from file\n",
    "# ## constants for DB_TYPE\n",
    "from training_modules.misc import TYPE_ASCAD, TYPE_NTRU, TYPE_GAUSS, TYPE_DPA, TYPE_M4SC\n",
    "# ## constants for handling file types\n",
    "from training_modules.misc import MODEL_CONST, LOSS_CONST, ACC_CONST, ADV_CONST, TRN_GRPH_CONST, ADV_GRPH_CONST, TST_ACC_CONST, VAL_LOSS_CONST, VAL_ACC_CONST, VAL_ADV_CONST, TST_ADV_CONST\n",
    "# ## hyper parameters\n",
    "from hyper_parameters import my_seeds, tot\n",
    "# ## main hyper parameters\n",
    "from hyper_parameters import my_database, DB_title, DB_TYPE, network_type, training_model\n",
    "# training:\n",
    "from training_modules.train import train_model"
   ]
  },
  {
   "cell_type": "code",
   "execution_count": null,
   "metadata": {},
   "outputs": [],
   "source": [
    "# prepare\n",
    "models = dict()\n",
    "\n",
    "# define empty history object\n",
    "history = dict()"
   ]
  },
  {
   "cell_type": "code",
   "execution_count": null,
   "metadata": {},
   "outputs": [],
   "source": [
    "def read_parameters_from_file(param_filename):\n",
    "    #read parameters for the train_model and load_traces functions\n",
    "    #TODO: sanity checks on parameters\n",
    "    param_file = open(param_filename,\"r\")\n",
    "\n",
    "    #TODO: replace eval() by ast.linear_eval()\n",
    "    my_parameters= eval(param_file.read())\n",
    "\n",
    "    my_database = my_parameters[\"database\"]\n",
    "    my_database_title = my_parameters[\"database_title\"]\n",
    "    return my_database_title, my_database\n"
   ]
  },
  {
   "cell_type": "code",
   "execution_count": null,
   "metadata": {
    "scrolled": true
   },
   "outputs": [],
   "source": [
    "## ASCAD: Adapted heavily by Mahmoud Gharra\n",
    "\n",
    "# NOTE: code could take another database if it has  supported format as the one provided.\n",
    "\n",
    "\n",
    "if __name__ == \"__main__\":\n",
    "\n",
    "    # create save directory, if it doesn't exist\n",
    "    Path(training_model).mkdir(parents=True, exist_ok=True)\n",
    "\n",
    "\n",
    "    accuracies = {}\n",
    "    advantages = {}\n",
    "    ### training\n",
    "    print(\"+ Commense training (takes about 20 seconds per epoch)\")\n",
    "\n",
    "    # with tf.device('/gpu:0'):\n",
    "\n",
    "    for seed in my_seeds:\n",
    "        # increasing reproducability of results according to https://keras.io/getting_started/faq/\n",
    "        # set PYTHONHASHSEED before running program to increase reproducability\n",
    "        # You can also consider using the CPU, as GPUs are less deterministic. (CUDA=\"\")\n",
    "        np.random.seed(seed)\n",
    "        python_random.seed(seed)\n",
    "    #     tf.random.set_random_seed(seed) # older tf versions use this\n",
    "        tf.random.set_seed(seed)\n",
    "\n",
    "        data_loader = DATA_LOADER(DB_TYPE, my_database)\n",
    "\n",
    "        print(\"++ Data dimestions are: \", np.array(data_loader.X).shape)\n",
    "\n",
    "        # sample some traces\n",
    "        # Sampling traces intereferes with the resulting graph. This must mean that I'm doing that suboptimally\n",
    "        # TODO: fix it, so that saved graph is correct\n",
    "        print(\"+ sample {0} traces\".format(tot))\n",
    "        if tot != 0:\n",
    "            sample_traces(X)\n",
    "            print(\"+ print out list of categories:\\n {}\".format(np.unique(y)))\n",
    "            print(\"+ print out shape of labels:\\n {}\".format(y.shape))\n",
    "\n",
    "\n",
    "        for key_idx in range(data_loader.KEY_LENGTH):\n",
    "            print('key_idx={}...'.format(key_idx))\n",
    "\n",
    "            # If it hasn't been trained. Load a model, extract the profiling and attack traces and labels and commense the training\n",
    "            ## extract profiling and testing data\n",
    "            data_loader.extract_data(network_type, key_idx=key_idx)\n",
    "\n",
    "            # Check if this seed key combination had been trained in the past\n",
    "            ## we run individual training for each key integer\n",
    "            if models.get((seed, key_idx)) is not None:\n",
    "                data_loader.model = load_model(models.get((seed, key_idx)))\n",
    "                ## calculate ACCURACY\n",
    "                accuracies[(seed, key_idx)] = calc_tst_acc(data_loader, seed=seed, key_idx=key_idx)\n",
    "                ## calculate ADVANTAGE\n",
    "                advantages[(seed, key_idx)] = calc_advantage(accuracies.get((seed, key_idx)))\n",
    "                continue\n",
    "\n",
    "            _file_path = os.path.normpath(get_file_path(training_model, MODEL_CONST, seed, key_idx))\n",
    "            if os.path.exists(_file_path) == True:\n",
    "                models[(seed, key_idx)] =  get_file_path(training_model, MODEL_CONST, seed, key_idx)\n",
    "                data_loader.model = load_model(models.get((seed, key_idx)))\n",
    "                ## calculate ACCURACY\n",
    "                accuracies[(seed, key_idx)] = calc_tst_acc(data_loader, seed=seed, key_idx=key_idx)\n",
    "                ## calculate ADVANTAGE\n",
    "                advantages[(seed, key_idx)] = calc_advantage(accuracies.get((seed, key_idx)))\n",
    "                continue                \n",
    "\n",
    "\n",
    "            ## train model, get number of attempts needed and history struct\n",
    "            history, att = train_model(data_loader, training_model, seed=seed, key_idx=key_idx)\n",
    "\n",
    "            ## TODO: save hist\n",
    "            print(\"+ save history\")\n",
    "            # SAVE HISTORY\n",
    "            save_history(training_model, history, seed, key_idx, att)\n",
    "\n",
    "            # add file path to list of trained models\n",
    "            models[(seed, key_idx)] = get_file_path(training_model, MODEL_CONST, seed, key_idx) # TODO: models can be removed, get_file_path() is better at getting model instance\n",
    "            # TODO: THE FOLLOWING 4 LINES WERE REPEATED 4 TIMES\n",
    "            ## calculate test accuracy, you'll be saving them all at the end\n",
    "            accuracies[(seed, key_idx)] = calc_tst_acc(data_loader, seed=seed, key_idx=key_idx)\n",
    "\n",
    "            ## calculate ADVANTAGE\n",
    "            advantages[(seed, key_idx)] = calc_advantage(accuracies.get((seed, key_idx)))\n",
    "\n",
    "\n",
    "    print()\n",
    "    print(\"+ Training complete\")\n",
    "\n",
    "    # Save all test accuracies and advantages\n",
    "    print(\"+ Saving dictionary with all test accuracies and test advantages of all seeds (and keys if those exist)\")\n",
    "    save_file(training_model, accuracies, case=TST_ACC_CONST)\n",
    "    save_file(training_model, advantages, case=TST_ADV_CONST)\n",
    "\n",
    "\n",
    "\n",
    "    # TODO: replace calculation of advantage with loading of it\n",
    "    display_results(models, accuracies, advantages, training_model, DB_TYPE = DB_TYPE)\n",
    "\n",
    "\n"
   ]
  },
  {
   "cell_type": "code",
   "execution_count": null,
   "metadata": {
    "scrolled": true
   },
   "outputs": [],
   "source": [
    "# from tensorflow.python.client import device_lib\n",
    "# print(device_lib.list_local_devices())\n",
    "\n"
   ]
  },
  {
   "cell_type": "code",
   "execution_count": null,
   "metadata": {},
   "outputs": [],
   "source": [
    "# import tensorflow as tf\n",
    "# sess = tf.compat.v1.sess(config=tf.ConfigProto(log_device_placement=True))\n"
   ]
  },
  {
   "cell_type": "code",
   "execution_count": null,
   "metadata": {},
   "outputs": [],
   "source": [
    "# 0.5171052631578947"
   ]
  },
  {
   "cell_type": "code",
   "execution_count": null,
   "metadata": {},
   "outputs": [],
   "source": [
    "# import tensorflow as tf\n",
    "\n",
    "# # print(\"Total Devs Available: \", len(tf.config.experimental.list_physical_devices()))\n",
    "# # print(\"Num GPUs Available: \", len(tf.config.experimental.list_physical_devices(\"GPU\")))\n",
    "# # print(\"Num CPUs Available: \", len(tf.config.experimental.list_physical_devices(\"CPU\")))\n",
    "# # import tensorflow as tf\n",
    "# tf.config.experimental.list_physical_devices()"
   ]
  },
  {
   "cell_type": "code",
   "execution_count": null,
   "metadata": {},
   "outputs": [],
   "source": [
    "# from tensorflow.python.client import device_lib\n",
    "# print(device_lib.list_local_devices())\n"
   ]
  },
  {
   "cell_type": "code",
   "execution_count": null,
   "metadata": {},
   "outputs": [],
   "source": [
    "# import tensorflow as tf\n",
    "# tf.test.gpu_device_name()\n"
   ]
  },
  {
   "cell_type": "code",
   "execution_count": null,
   "metadata": {},
   "outputs": [],
   "source": [
    "# gpus = tf.config.list_physical_devices('GPU')\n",
    "# gpus"
   ]
  },
  {
   "cell_type": "code",
   "execution_count": null,
   "metadata": {},
   "outputs": [],
   "source": [
    "# import tensorflow as tf\n",
    "# print(\"Num GPUs Available: \", len(tf.config.experimental.list_physical_devices('GPU')))\n"
   ]
  },
  {
   "cell_type": "code",
   "execution_count": null,
   "metadata": {},
   "outputs": [],
   "source": [
    "# sess = tf.compat.v1.Session(config=tf.compat.v1.ConfigProto(log_device_placement=True))\n"
   ]
  },
  {
   "cell_type": "code",
   "execution_count": null,
   "metadata": {},
   "outputs": [],
   "source": [
    "# print(device_lib.list_local_devices())\n",
    "# tf.Session()\n",
    "# tf.compat.v1.Session()"
   ]
  },
  {
   "cell_type": "code",
   "execution_count": null,
   "metadata": {},
   "outputs": [],
   "source": [
    "# print(tf.config.list_physical_devices('GPU'))\n"
   ]
  },
  {
   "cell_type": "code",
   "execution_count": null,
   "metadata": {},
   "outputs": [],
   "source": [
    "# from __future__ import absolute_import, division, print_function, unicode_literals\n",
    "\n",
    "# import numpy as np\n",
    "# import tensorflow as tf\n",
    "# # import tensorflow_hub as hub\n",
    "# # import tensorflow_datasets as tfds\n",
    "\n",
    "\n",
    "# tf.config.experimental.list_physical_devices(\"GPU\")"
   ]
  },
  {
   "cell_type": "code",
   "execution_count": null,
   "metadata": {},
   "outputs": [],
   "source": [
    "# import tensorflow as tf\n",
    "# print(\"Num GPUs Available: \", len(tf.config.experimental.list_physical_devices('GPU')))\n",
    "# tf.config.experimental.list_physical_devices('GPU') "
   ]
  },
  {
   "cell_type": "code",
   "execution_count": null,
   "metadata": {},
   "outputs": [],
   "source": [
    "# num = np.int16(800)\n",
    "# np.array([0 if (num & (1 << i) == 0) else 1 for i in range(15, -1, -1)])"
   ]
  },
  {
   "cell_type": "code",
   "execution_count": null,
   "metadata": {},
   "outputs": [],
   "source": []
  }
 ],
 "metadata": {
  "kernelspec": {
   "display_name": "Python 3",
   "language": "python",
   "name": "python3"
  },
  "language_info": {
   "codemirror_mode": {
    "name": "ipython",
    "version": 3
   },
   "file_extension": ".py",
   "mimetype": "text/x-python",
   "name": "python",
   "nbconvert_exporter": "python",
   "pygments_lexer": "ipython3",
   "version": "3.8.2"
  }
 },
 "nbformat": 4,
 "nbformat_minor": 4
}
