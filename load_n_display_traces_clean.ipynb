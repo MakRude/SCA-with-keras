{
 "cells": [
  {
   "cell_type": "code",
   "execution_count": 1,
   "metadata": {},
   "outputs": [],
   "source": [
    "# This code simply loads traces and displays them in a spectrogram and in a plot\n",
    "# It does not contain any training functions or parameters\n",
    "# It was created to increase the readability of the main code and to enable the display of the loaded traces (Duh :P)\n",
    "\n",
    "\n",
    "# This code contains code adapted from Nils Wisiol, sntrup4591761 and ANSSI-FR/ASCAD\n",
    "# All snippets are marked accordingly as such\n",
    "# from tqdm import tnrange\n",
    "\n",
    "# General modules\n",
    "import sys\n",
    "from pathlib import Path\n",
    "\n",
    "\n",
    "# Load data modules\n",
    "from numpy import empty, zeros, uint16\n",
    "from numpy.random import RandomState\n",
    "import chipwhisperer as cw\n",
    "import numpy as np\n",
    "\n",
    "# Plot traces\n",
    "from scipy import signal, fftpack\n",
    "import matplotlib.pyplot as plt\n",
    "## Plot zoomed in\n",
    "%matplotlib inline\n",
    "from ipywidgets import interactive\n",
    "import matplotlib.pyplot as plt\n",
    "import numpy as np\n",
    "\n"
   ]
  },
  {
   "cell_type": "code",
   "execution_count": 2,
   "metadata": {},
   "outputs": [],
   "source": [
    "# ASCAD: Adapted by Mahmoud Gharra to fit the NTRU Prime input\n",
    "\n",
    "\n",
    "# returns traces and labels, as well as some important global meta_data\n",
    "\n",
    "def load_database(my_database):\n",
    "    # load traces\n",
    "    print(\"++ Loading projects\")\n",
    "    project = cw.open_project(my_database)\n",
    "    global KEY_LENGTH, TEXT_LENGTH, SAMPLE_HIGH, TRAINING_SLICE, TEST_NUM, TEST_SLICE\n",
    "\n",
    "    # Organize trace data for MLP\n",
    "    print(\"++ Organizing traces\")\n",
    "    KEY_LENGTH = TEXT_LENGTH = project.keys[0].size\n",
    "\n",
    "    sample_low = 0\n",
    "    SAMPLE_HIGH = project.trace_manager().num_points() # length of singular trace\n",
    "    sample_slice = slice(sample_low, SAMPLE_HIGH)\n",
    "    sample_num = len(project.traces) # number of traces\n",
    "#     print(\"sample num: \", sample_num)\n",
    "    training_num = sample_num - tst_len\n",
    "    TRAINING_SLICE = slice(0, training_num)\n",
    "\n",
    "    TEST_NUM = sample_num - training_num\n",
    "    TEST_SLICE = slice(training_num, TEST_NUM + training_num)\n",
    "    assert TEST_NUM + training_num <= sample_num\n",
    "    assert training_num > 3*TEST_NUM\n",
    "\n",
    "    # organize traces in X matrix\n",
    "    X = empty(shape=(sample_num, SAMPLE_HIGH - sample_low))\n",
    "    for i in range(sample_num):\n",
    "        X[i] = project.waves[i][sample_slice]\n",
    "\n",
    "    # organize the operands in Y matrix\n",
    "    y = empty(shape=(sample_num, KEY_LENGTH))\n",
    "    for i in range(sample_num):\n",
    "        # reproduce values\n",
    "        y[i] = project.keys[i]\n",
    "#         text_num = text_gen(seed=i)[:TEXT_LENGTH]\n",
    "#         key_num = key_gen(seed=i)[:KEY_LENGTH]\n",
    "#         y[i][:] = key_num[:]\n",
    "        #y[i][y[i] > 2**15] -= 2**16\n",
    "\n",
    "    \n",
    "    # transform generated key numbers to labels\n",
    "    y = np.array((y.T[1::2].T*(2**8)) + y.T[::2].T, dtype=np.int16)\n",
    "\n",
    "    unique = np.unique(y)\n",
    "    class_dic = dict([[unique[i], i] for i in range(len(unique))])\n",
    "    y_labelled = np.vectorize(class_dic.get)(y)\n",
    "    return X, y_labelled\n",
    "\n",
    "\n",
    "def read_parameters_from_file(param_filename):\n",
    "    #read parameters for the train_model and load_traces functions\n",
    "    #TODO: sanity checks on parameters\n",
    "    param_file = open(param_filename,\"r\")\n",
    "\n",
    "    #TODO: replace eval() by ast.linear_eval()\n",
    "    my_parameters= eval(param_file.read())\n",
    "\n",
    "    my_database = my_parameters[\"database\"]\n",
    "    my_database_title = my_parameters[\"database_title\"]\n",
    "    return my_database_title, my_database\n",
    "\n",
    "\n",
    "\n",
    "# https://www.oreilly.com/library/view/elegant-scipy/9781491922927/ch04.html\n",
    "def four_tr(traces, tmp_i, f_s):\n",
    "    _Four = fftpack.fft(traces[tmp_i])\n",
    "    _freqs = fftpack.fftfreq(len(traces[tmp_i])) * f_s\n",
    "    \n",
    "    return _Four, _freqs\n"
   ]
  },
  {
   "cell_type": "code",
   "execution_count": 3,
   "metadata": {},
   "outputs": [],
   "source": [
    "def sample_traces(unlab_traces):\n",
    "    \n",
    "    t = np.arange(unlab_traces.shape[1])\n",
    "    myTraces = np.array(unlab_traces)\n",
    "\n",
    "    rand_ind = np.zeros(tot)\n",
    "    for i in range(tot):\n",
    "        rand_ind[i] = np.random.randint(myTraces.shape[0])\n",
    "\n",
    "    # plot traces\n",
    "    print(\"++ plot traces\")\n",
    "    fig1, axs1 = plt.subplots(tot)\n",
    "    fig1.suptitle(DB_title + \": \" + str(rand_ind))\n",
    "    for i in range(tot):\n",
    "        axs1[i].plot(t, myTraces[int(rand_ind[i])])\n",
    "\n",
    "    # zoomed in traces plot    \n",
    "#     print(\"++ plot zoomed in traces\")\n",
    "#     fig5, axs5 = plt.subplots(2)\n",
    "#     fig5.suptitle(DB_title + \": \" + str(rand_ind))\n",
    "    \n",
    "#     for m in range(2):\n",
    "#         def f(m):\n",
    "#             axs5[m].plot(t, myTraces[int(rand_ind[m])])\n",
    "#             axs5[m].set_xlim(m, m+1000)\n",
    "#         interactive(f, m=(0, 900.0))\n",
    "        \n",
    "    \n",
    "    \n",
    "    # https://www.oreilly.com/library/view/elegant-scipy/9781491922927/ch04.html    \n",
    "    # frequency plot\n",
    "    print(\"++ plot frequencies\")\n",
    "    fig2, axs2 = plt.subplots(tot)\n",
    "    fig2.suptitle(DB_title + \" Freqs: \" + str(rand_ind))\n",
    "    for j in range(tot):\n",
    "        Four, freqs = four_tr(myTraces, int(rand_ind[j]), f_s)\n",
    "    #     fig, ax = plt.subplots()\n",
    "        axs2[-j].stem(freqs, np.abs(Four), use_line_collection=True, linefmt='-', markerfmt=\" \")\n",
    "        \n",
    "    #     axs2[j].set_xlim(-f_s / 2, f_s / 2)\n",
    "    #     axs2[j].set_ylim(-5, 110)\n",
    "\n",
    "    # zoomed in frequency plot\n",
    "#     print(\"++  plot frequencies (zoomed in)\")\n",
    "#     fig3, axs3 = plt.subplots(tot)\n",
    "#     fig3.suptitle(DB_title + \" Freqs: \" + str(rand_ind))\n",
    "#     for k in range(tot):\n",
    "#         Four, freqs = four_tr(myTraces, int(rand_ind[k]), f_s)\n",
    "#         Four[0] = 0\n",
    "#         axs3[k].stem(freqs, np.abs(Four), use_line_collection=True, linefmt='-', markerfmt=\" \")\n",
    "#         axs3[k].set_xlim(-10, 10)\n",
    "#         axs3[k].set_ylim(-1, 10)\n",
    "\n",
    "    # https://docs.scipy.org/doc/scipy/reference/generated/scipy.signal.spectrogram.html\n",
    "#     print(\"++ plot spectrogram\")\n",
    "#     fig4, axs4 = plt.subplots(tot)\n",
    "#     fig4.suptitle(DB_title + \" sprectrogram: \" + str(rand_ind))\n",
    "#     fig4.axes[-1].set_xlabel('time (sec)')\n",
    "#     fig4.axes[int(tot/2)].set_ylabel('frequency')\n",
    "\n",
    "#     for l in range(tot):\n",
    "#         f, t, Sxx = signal.spectrogram(myTraces[int(rand_ind[l])], f_s)\n",
    "#         axs4[l].pcolormesh(t, f, Sxx)\n",
    "# #         axs4[l].set_xlim(-1, 20)\n"
   ]
  },
  {
   "cell_type": "code",
   "execution_count": 4,
   "metadata": {},
   "outputs": [
    {
     "name": "stdout",
     "output_type": "stream",
     "text": [
      "+ Commense loading data\n",
      "++ Loading projects\n"
     ]
    },
    {
     "ename": "OSError",
     "evalue": "File /Users/MakRude/Desktop/Edu/TU_Berlin_SS20/Bachelor Thesis/SCA_w_Keras/schoolbook32/schoolbook32.cwp does not exist or is not a file",
     "output_type": "error",
     "traceback": [
      "\u001b[0;31m-------------------------------------------------------------------------\u001b[0m",
      "\u001b[0;31mOSError\u001b[0m                                 Traceback (most recent call last)",
      "\u001b[0;32m<ipython-input-4-698d9c82dfd7>\u001b[0m in \u001b[0;36m<module>\u001b[0;34m\u001b[0m\n\u001b[1;32m     33\u001b[0m \u001b[0;31m# loads traces\u001b[0m\u001b[0;34m\u001b[0m\u001b[0;34m\u001b[0m\u001b[0;34m\u001b[0m\u001b[0m\n\u001b[1;32m     34\u001b[0m \u001b[0mprint\u001b[0m\u001b[0;34m(\u001b[0m\u001b[0;34m\"+ Commense loading data\"\u001b[0m\u001b[0;34m)\u001b[0m\u001b[0;34m\u001b[0m\u001b[0;34m\u001b[0m\u001b[0m\n\u001b[0;32m---> 35\u001b[0;31m \u001b[0mX\u001b[0m\u001b[0;34m,\u001b[0m \u001b[0my\u001b[0m \u001b[0;34m=\u001b[0m \u001b[0mload_database\u001b[0m\u001b[0;34m(\u001b[0m\u001b[0mmy_database\u001b[0m\u001b[0;34m)\u001b[0m\u001b[0;34m\u001b[0m\u001b[0;34m\u001b[0m\u001b[0m\n\u001b[0m\u001b[1;32m     36\u001b[0m \u001b[0mprint\u001b[0m\u001b[0;34m(\u001b[0m\u001b[0;34m\"++ Data dimestions are: \"\u001b[0m\u001b[0;34m,\u001b[0m \u001b[0mnp\u001b[0m\u001b[0;34m.\u001b[0m\u001b[0marray\u001b[0m\u001b[0;34m(\u001b[0m\u001b[0mX\u001b[0m\u001b[0;34m)\u001b[0m\u001b[0;34m.\u001b[0m\u001b[0mshape\u001b[0m\u001b[0;34m)\u001b[0m\u001b[0;34m\u001b[0m\u001b[0;34m\u001b[0m\u001b[0m\n\u001b[1;32m     37\u001b[0m \u001b[0;34m\u001b[0m\u001b[0m\n",
      "\u001b[0;32m<ipython-input-2-543911450d27>\u001b[0m in \u001b[0;36mload_database\u001b[0;34m(my_database)\u001b[0m\n\u001b[1;32m      7\u001b[0m     \u001b[0;31m# load traces\u001b[0m\u001b[0;34m\u001b[0m\u001b[0;34m\u001b[0m\u001b[0;34m\u001b[0m\u001b[0m\n\u001b[1;32m      8\u001b[0m     \u001b[0mprint\u001b[0m\u001b[0;34m(\u001b[0m\u001b[0;34m\"++ Loading projects\"\u001b[0m\u001b[0;34m)\u001b[0m\u001b[0;34m\u001b[0m\u001b[0;34m\u001b[0m\u001b[0m\n\u001b[0;32m----> 9\u001b[0;31m     \u001b[0mproject\u001b[0m \u001b[0;34m=\u001b[0m \u001b[0mcw\u001b[0m\u001b[0;34m.\u001b[0m\u001b[0mopen_project\u001b[0m\u001b[0;34m(\u001b[0m\u001b[0mmy_database\u001b[0m\u001b[0;34m)\u001b[0m\u001b[0;34m\u001b[0m\u001b[0;34m\u001b[0m\u001b[0m\n\u001b[0m\u001b[1;32m     10\u001b[0m     \u001b[0;32mglobal\u001b[0m \u001b[0mKEY_LENGTH\u001b[0m\u001b[0;34m,\u001b[0m \u001b[0mTEXT_LENGTH\u001b[0m\u001b[0;34m,\u001b[0m \u001b[0mSAMPLE_HIGH\u001b[0m\u001b[0;34m,\u001b[0m \u001b[0mTRAINING_SLICE\u001b[0m\u001b[0;34m,\u001b[0m \u001b[0mTEST_NUM\u001b[0m\u001b[0;34m,\u001b[0m \u001b[0mTEST_SLICE\u001b[0m\u001b[0;34m\u001b[0m\u001b[0;34m\u001b[0m\u001b[0m\n\u001b[1;32m     11\u001b[0m \u001b[0;34m\u001b[0m\u001b[0m\n",
      "\u001b[0;32m/opt/anaconda3/lib/python3.7/site-packages/chipwhisperer/__init__.py\u001b[0m in \u001b[0;36mopen_project\u001b[0;34m(filename)\u001b[0m\n\u001b[1;32m     75\u001b[0m \u001b[0;34m\u001b[0m\u001b[0m\n\u001b[1;32m     76\u001b[0m     \u001b[0mproj\u001b[0m \u001b[0;34m=\u001b[0m \u001b[0mproject\u001b[0m\u001b[0;34m.\u001b[0m\u001b[0mProject\u001b[0m\u001b[0;34m(\u001b[0m\u001b[0;34m)\u001b[0m\u001b[0;34m\u001b[0m\u001b[0;34m\u001b[0m\u001b[0m\n\u001b[0;32m---> 77\u001b[0;31m     \u001b[0mproj\u001b[0m\u001b[0;34m.\u001b[0m\u001b[0mload\u001b[0m\u001b[0;34m(\u001b[0m\u001b[0mfilename\u001b[0m\u001b[0;34m)\u001b[0m\u001b[0;34m\u001b[0m\u001b[0;34m\u001b[0m\u001b[0m\n\u001b[0m\u001b[1;32m     78\u001b[0m     \u001b[0;32mreturn\u001b[0m \u001b[0mproj\u001b[0m\u001b[0;34m\u001b[0m\u001b[0;34m\u001b[0m\u001b[0m\n\u001b[1;32m     79\u001b[0m \u001b[0;34m\u001b[0m\u001b[0m\n",
      "\u001b[0;32m/opt/anaconda3/lib/python3.7/site-packages/chipwhisperer/common/api/ProjectFormat.py\u001b[0m in \u001b[0;36mload\u001b[0;34m(self, f)\u001b[0m\n\u001b[1;32m    297\u001b[0m \u001b[0;34m\u001b[0m\u001b[0m\n\u001b[1;32m    298\u001b[0m         \u001b[0;32mif\u001b[0m \u001b[0;32mnot\u001b[0m \u001b[0mos\u001b[0m\u001b[0;34m.\u001b[0m\u001b[0mpath\u001b[0m\u001b[0;34m.\u001b[0m\u001b[0misfile\u001b[0m\u001b[0;34m(\u001b[0m\u001b[0mself\u001b[0m\u001b[0;34m.\u001b[0m\u001b[0mfilename\u001b[0m\u001b[0;34m)\u001b[0m\u001b[0;34m:\u001b[0m\u001b[0;34m\u001b[0m\u001b[0;34m\u001b[0m\u001b[0m\n\u001b[0;32m--> 299\u001b[0;31m             \u001b[0;32mraise\u001b[0m \u001b[0mIOError\u001b[0m\u001b[0;34m(\u001b[0m\u001b[0;34m\"File \"\u001b[0m \u001b[0;34m+\u001b[0m \u001b[0mself\u001b[0m\u001b[0;34m.\u001b[0m\u001b[0mfilename\u001b[0m \u001b[0;34m+\u001b[0m \u001b[0;34m\" does not exist or is not a file\"\u001b[0m\u001b[0;34m)\u001b[0m\u001b[0;34m\u001b[0m\u001b[0;34m\u001b[0m\u001b[0m\n\u001b[0m\u001b[1;32m    300\u001b[0m \u001b[0;34m\u001b[0m\u001b[0m\n\u001b[1;32m    301\u001b[0m         \u001b[0mself\u001b[0m\u001b[0;34m.\u001b[0m\u001b[0mconfig\u001b[0m \u001b[0;34m=\u001b[0m \u001b[0mConfigObjProj\u001b[0m\u001b[0;34m(\u001b[0m\u001b[0minfile\u001b[0m\u001b[0;34m=\u001b[0m\u001b[0mself\u001b[0m\u001b[0;34m.\u001b[0m\u001b[0mfilename\u001b[0m\u001b[0;34m,\u001b[0m \u001b[0mcallback\u001b[0m\u001b[0;34m=\u001b[0m\u001b[0mself\u001b[0m\u001b[0;34m.\u001b[0m\u001b[0mconfigObjChanged\u001b[0m\u001b[0;34m)\u001b[0m\u001b[0;34m\u001b[0m\u001b[0;34m\u001b[0m\u001b[0m\n",
      "\u001b[0;31mOSError\u001b[0m: File /Users/MakRude/Desktop/Edu/TU_Berlin_SS20/Bachelor Thesis/SCA_w_Keras/schoolbook32/schoolbook32.cwp does not exist or is not a file"
     ]
    }
   ],
   "source": [
    "#ASCAD: Adapted by Mahmoud Gharra\n",
    "\n",
    "# NOTE: code could take another database if it has the same format as the one provided.\n",
    "# NOTE: you need to make a local directory with the name of your chosen training_model\n",
    "\n",
    "###################\n",
    "###################\n",
    "# Hyper parameters:\n",
    "###################\n",
    "\n",
    "tot = 3 # total number of random samples that you'd like to display\n",
    "f_s = 100 # frequency of data in Hz --- I can't seem to find this value in proj\n",
    "\n",
    "tst_len = 500 # length of testing set\n",
    "\n",
    "###################\n",
    "###################\n",
    "\n",
    "# if __name__ == \"__main__\":\n",
    "\n",
    "if len(sys.argv)!=2:\n",
    "    #default parameters values\n",
    "#     my_database = \"PRE_MAY_06/projects/operand_scanning_32\"\n",
    "#     DB_title = \"operand_scanning_32\"\n",
    "\n",
    "    my_database = \"schoolbook32/schoolbook32\"        \n",
    "    DB_title = \"schoolbook32\"\n",
    "    # TRAINING MODEL IS THE FILE, IN WHICH THE DATA SHOULD BE SAVED\n",
    "else:\n",
    "    #get parameters from user input\n",
    "    DB_title, database = read_parameters_from_file(sys.argv[1])\n",
    "\n",
    "# loads traces\n",
    "print(\"+ Commense loading data\")\n",
    "X, y = load_database(my_database)\n",
    "print(\"++ Data dimestions are: \", np.array(X).shape)\n",
    "\n",
    "print(\"+ sample {0} traces\".format(tot))\n",
    "if tot != 0:\n",
    "    sample_traces(X)"
   ]
  },
  {
   "cell_type": "code",
   "execution_count": 5,
   "metadata": {},
   "outputs": [],
   "source": [
    "# It looks like we have PowerLine intereference:\n",
    "# This should fix it but I can't download matlab...\n",
    "# I need conda for it, which I also don't have\n",
    "# -- https://github.com/mrezak/removePLI\n",
    "# import matlab.engine\n",
    "# eng = matlab.engine.start_matlab()"
   ]
  },
  {
   "cell_type": "code",
   "execution_count": 6,
   "metadata": {},
   "outputs": [],
   "source": [
    "# High and low pass filtering https://mne.tools/0.13/auto_tutorials/plot_artifacts_correction_filtering.html"
   ]
  },
  {
   "cell_type": "code",
   "execution_count": 7,
   "metadata": {},
   "outputs": [
    {
     "ename": "OSError",
     "evalue": "File /Users/MakRude/Desktop/Edu/TU_Berlin_SS20/Bachelor Thesis/SCA_w_Keras/schoolbook32/schoolbook32.cwp does not exist or is not a file",
     "output_type": "error",
     "traceback": [
      "\u001b[0;31m-------------------------------------------------------------------------\u001b[0m",
      "\u001b[0;31mOSError\u001b[0m                                 Traceback (most recent call last)",
      "\u001b[0;32m<ipython-input-7-1479f176aef2>\u001b[0m in \u001b[0;36m<module>\u001b[0;34m\u001b[0m\n\u001b[0;32m----> 1\u001b[0;31m \u001b[0mproject\u001b[0m \u001b[0;34m=\u001b[0m \u001b[0mcw\u001b[0m\u001b[0;34m.\u001b[0m\u001b[0mopen_project\u001b[0m\u001b[0;34m(\u001b[0m\u001b[0mmy_database\u001b[0m\u001b[0;34m)\u001b[0m\u001b[0;34m\u001b[0m\u001b[0;34m\u001b[0m\u001b[0m\n\u001b[0m\u001b[1;32m      2\u001b[0m \u001b[0;34m\u001b[0m\u001b[0m\n\u001b[1;32m      3\u001b[0m \u001b[0mprint\u001b[0m\u001b[0;34m(\u001b[0m\u001b[0;34m'location (project.location): '\u001b[0m\u001b[0;34m,\u001b[0m \u001b[0mproject\u001b[0m\u001b[0;34m.\u001b[0m\u001b[0mlocation\u001b[0m\u001b[0;34m)\u001b[0m\u001b[0;34m\u001b[0m\u001b[0;34m\u001b[0m\u001b[0m\n\u001b[1;32m      4\u001b[0m \u001b[0mprint\u001b[0m\u001b[0;34m(\u001b[0m\u001b[0;34m)\u001b[0m\u001b[0;34m\u001b[0m\u001b[0;34m\u001b[0m\u001b[0m\n\u001b[1;32m      5\u001b[0m \u001b[0;34m\u001b[0m\u001b[0m\n",
      "\u001b[0;32m/opt/anaconda3/lib/python3.7/site-packages/chipwhisperer/__init__.py\u001b[0m in \u001b[0;36mopen_project\u001b[0;34m(filename)\u001b[0m\n\u001b[1;32m     75\u001b[0m \u001b[0;34m\u001b[0m\u001b[0m\n\u001b[1;32m     76\u001b[0m     \u001b[0mproj\u001b[0m \u001b[0;34m=\u001b[0m \u001b[0mproject\u001b[0m\u001b[0;34m.\u001b[0m\u001b[0mProject\u001b[0m\u001b[0;34m(\u001b[0m\u001b[0;34m)\u001b[0m\u001b[0;34m\u001b[0m\u001b[0;34m\u001b[0m\u001b[0m\n\u001b[0;32m---> 77\u001b[0;31m     \u001b[0mproj\u001b[0m\u001b[0;34m.\u001b[0m\u001b[0mload\u001b[0m\u001b[0;34m(\u001b[0m\u001b[0mfilename\u001b[0m\u001b[0;34m)\u001b[0m\u001b[0;34m\u001b[0m\u001b[0;34m\u001b[0m\u001b[0m\n\u001b[0m\u001b[1;32m     78\u001b[0m     \u001b[0;32mreturn\u001b[0m \u001b[0mproj\u001b[0m\u001b[0;34m\u001b[0m\u001b[0;34m\u001b[0m\u001b[0m\n\u001b[1;32m     79\u001b[0m \u001b[0;34m\u001b[0m\u001b[0m\n",
      "\u001b[0;32m/opt/anaconda3/lib/python3.7/site-packages/chipwhisperer/common/api/ProjectFormat.py\u001b[0m in \u001b[0;36mload\u001b[0;34m(self, f)\u001b[0m\n\u001b[1;32m    297\u001b[0m \u001b[0;34m\u001b[0m\u001b[0m\n\u001b[1;32m    298\u001b[0m         \u001b[0;32mif\u001b[0m \u001b[0;32mnot\u001b[0m \u001b[0mos\u001b[0m\u001b[0;34m.\u001b[0m\u001b[0mpath\u001b[0m\u001b[0;34m.\u001b[0m\u001b[0misfile\u001b[0m\u001b[0;34m(\u001b[0m\u001b[0mself\u001b[0m\u001b[0;34m.\u001b[0m\u001b[0mfilename\u001b[0m\u001b[0;34m)\u001b[0m\u001b[0;34m:\u001b[0m\u001b[0;34m\u001b[0m\u001b[0;34m\u001b[0m\u001b[0m\n\u001b[0;32m--> 299\u001b[0;31m             \u001b[0;32mraise\u001b[0m \u001b[0mIOError\u001b[0m\u001b[0;34m(\u001b[0m\u001b[0;34m\"File \"\u001b[0m \u001b[0;34m+\u001b[0m \u001b[0mself\u001b[0m\u001b[0;34m.\u001b[0m\u001b[0mfilename\u001b[0m \u001b[0;34m+\u001b[0m \u001b[0;34m\" does not exist or is not a file\"\u001b[0m\u001b[0;34m)\u001b[0m\u001b[0;34m\u001b[0m\u001b[0;34m\u001b[0m\u001b[0m\n\u001b[0m\u001b[1;32m    300\u001b[0m \u001b[0;34m\u001b[0m\u001b[0m\n\u001b[1;32m    301\u001b[0m         \u001b[0mself\u001b[0m\u001b[0;34m.\u001b[0m\u001b[0mconfig\u001b[0m \u001b[0;34m=\u001b[0m \u001b[0mConfigObjProj\u001b[0m\u001b[0;34m(\u001b[0m\u001b[0minfile\u001b[0m\u001b[0;34m=\u001b[0m\u001b[0mself\u001b[0m\u001b[0;34m.\u001b[0m\u001b[0mfilename\u001b[0m\u001b[0;34m,\u001b[0m \u001b[0mcallback\u001b[0m\u001b[0;34m=\u001b[0m\u001b[0mself\u001b[0m\u001b[0;34m.\u001b[0m\u001b[0mconfigObjChanged\u001b[0m\u001b[0;34m)\u001b[0m\u001b[0;34m\u001b[0m\u001b[0;34m\u001b[0m\u001b[0m\n",
      "\u001b[0;31mOSError\u001b[0m: File /Users/MakRude/Desktop/Edu/TU_Berlin_SS20/Bachelor Thesis/SCA_w_Keras/schoolbook32/schoolbook32.cwp does not exist or is not a file"
     ]
    }
   ],
   "source": [
    "project = cw.open_project(my_database)\n",
    "\n",
    "print('location (project.location): ', project.location)\n",
    "print()\n",
    "\n",
    "print('trace length (project.waves[0].size): ', project.waves[0].size)\n",
    "print()\n",
    "\n",
    "print('number of traces (len(project.traces)): ', len(project.traces))\n",
    "print()\n",
    "print()\n",
    "\n",
    "# Iterable for working with only the text in.\n",
    "# Each item in the iterable is a byte array.\n",
    "# Supports iterating, indexing, and slicing:\n",
    "print(\"project.textins[0].size\", project.textins[0].size)\n",
    "print(\"project.textins (an iterable of length 64): \", project.textins)\n",
    "print()\n",
    "print()\n",
    "\n",
    "# Iterable for working with only the text out.\n",
    "# Each item in the iterable is a byte array.\n",
    "# Supports iterating, indexing, and slicing:\n",
    "print(\"project.textouts[0] (always False ... What is it?): \", project.textouts[0])\n",
    "print()\n",
    "print()\n",
    "\n",
    "# An output for all 64 keys with . \n",
    "print(\"num. of keys (project.keys[0].size): \", project.keys[0].size)\n",
    "print(\"max index of labelled traces (project.keys.max): \", project.keys.max)\n",
    "print(\"number of classes\")\n",
    "print()\n",
    "\n",
    "keys_set = set(project.keys[0])\n",
    "print(\"keys_set = set(project.keys[0]) -- (not well implemented... Assumes all key labels are in first trace):\", keys_set)\n",
    "print(\"number of classes (based on keys_set) -- (len(keyset)): \", len(keys_set))\n",
    "print()\n",
    "print()\n",
    "\n",
    "print(\"file name (project.get_filename()): \", project.get_filename())\n",
    "print()\n",
    "\n",
    "print(\"length of singular traces (project.trace_manager().num_points()): \", project.trace_manager().num_points())\n",
    "print(\"number total of traces (project.trace_manager().num_traces()): \", project.trace_manager().num_traces())\n",
    "print()\n",
    "\n"
   ]
  },
  {
   "cell_type": "code",
   "execution_count": 8,
   "metadata": {},
   "outputs": [],
   "source": [
    "# # https://stackoverflow.com/questions/50590175/how-to-create-multiple-plots-with-scrollable-x-axis-with-a-single-slider\n",
    "\n",
    "# %matplotlib inline\n",
    "# from ipywidgets import interactive\n",
    "# import matplotlib.pyplot as plt\n",
    "# import numpy as np\n",
    "\n",
    "# def f(m):\n",
    "#     plt.figure(2)\n",
    "#     x = np.linspace(0, 1000, num=2000)\n",
    "#     plt.plot(x,x)\n",
    "#     #plt.plot(x, m * x)\n",
    "#     plt.xlim(m, m+100)\n",
    "#     plt.show()\n",
    "\n",
    "# interactive(f, m=(0, 900.0))\n",
    "\n",
    "\n",
    "# def f2(m):\n",
    "#     t = np.arange(X.shape[1])\n",
    "#     myTraces = np.array(X)\n",
    "\n",
    "# #     plt.plot(x,x)\n",
    "#     plt.plot(t, myTraces[243])\n",
    "#     plt.xlim(m, m+500)\n",
    "#     plt.show()\n",
    "\n",
    "# interactive(f2, m=(0, 4500.0))\n",
    "\n",
    "\n",
    "\n",
    "# def f3(m):\n",
    "#     t = np.arange(X.shape[1])\n",
    "#     myTraces = np.array(X)\n",
    "\n",
    "# #     plt.plot(x,x)\n",
    "#     plt.plot(t, myTraces[563])\n",
    "#     plt.xlim(m, m+500)\n",
    "#     plt.show()\n",
    "\n",
    "# interactive(f3, m=(0, 4500.0))\n",
    "\n",
    "\n",
    "\n",
    "# def f4(m):\n",
    "#     t = np.arange(X.shape[1])\n",
    "#     myTraces = np.array(X)\n",
    "\n",
    "# #     plt.plot(x,x)\n",
    "#     plt.plot(t, myTraces[1000])\n",
    "#     plt.xlim(m, m+500)\n",
    "#     plt.show()\n",
    "\n",
    "# interactive(f4, m=(0, 4500.0))"
   ]
  },
  {
   "cell_type": "code",
   "execution_count": 9,
   "metadata": {},
   "outputs": [],
   "source": [
    "# X.shape"
   ]
  },
  {
   "cell_type": "code",
   "execution_count": 10,
   "metadata": {},
   "outputs": [],
   "source": [
    "# y.shape"
   ]
  },
  {
   "cell_type": "code",
   "execution_count": 11,
   "metadata": {},
   "outputs": [],
   "source": [
    "# y[1]"
   ]
  },
  {
   "cell_type": "code",
   "execution_count": 12,
   "metadata": {},
   "outputs": [],
   "source": [
    "\n",
    "# returns traces and labels, as well as some important global meta_data\n",
    "\n",
    "def load_database2(my_database):\n",
    "    # load traces\n",
    "    print(\"++ Loading projects\")\n",
    "    project = cw.open_project(my_database)\n",
    "    global KEY_LENGTH, TEXT_LENGTH, SAMPLE_HIGH, TRAINING_SLICE, TEST_NUM, TEST_SLICE\n",
    "\n",
    "    # Organize trace data for MLP\n",
    "    print(\"++ Organizing traces\")\n",
    "    KEY_LENGTH = TEXT_LENGTH = project.keys[0].size\n",
    "\n",
    "    sample_low = 0\n",
    "    SAMPLE_HIGH = project.trace_manager().num_points() # length of singular trace\n",
    "    sample_slice = slice(sample_low, SAMPLE_HIGH)\n",
    "    sample_num = len(project.traces) # number of traces\n",
    "#     print(\"sample num: \", sample_num)\n",
    "    training_num = sample_num - tst_len\n",
    "    TRAINING_SLICE = slice(0, training_num)\n",
    "\n",
    "    TEST_NUM = sample_num - training_num\n",
    "    TEST_SLICE = slice(training_num, TEST_NUM + training_num)\n",
    "    assert TEST_NUM + training_num <= sample_num\n",
    "    assert training_num > 3*TEST_NUM\n",
    "\n",
    "    # organize traces in X matrix\n",
    "    X = empty(shape=(sample_num, SAMPLE_HIGH - sample_low))\n",
    "    for i in range(sample_num):\n",
    "        X[i] = project.waves[i][sample_slice]\n",
    "\n",
    "    # organize the operands in Y matrix\n",
    "    y = empty(shape=(sample_num, KEY_LENGTH))\n",
    "    for i in range(sample_num):\n",
    "        # reproduce values\n",
    "        y[i] = project.keys[i]\n",
    "#         text_num = text_gen(seed=i)[:TEXT_LENGTH]\n",
    "#         key_num = key_gen(seed=i)[:KEY_LENGTH]\n",
    "#         y[i][:] = key_num[:]\n",
    "        #y[i][y[i] > 2**15] -= 2**16\n",
    "\n",
    "    \n",
    "    # transform generated key numbers to labels\n",
    "    unique = np.unique(y)\n",
    "    class_dic = dict([[unique[i], i] for i in range(len(unique))])\n",
    "    y_labelled = np.vectorize(class_dic.get)(y)\n",
    "\n",
    "    y_orig = y\n",
    "    return X, y_labelled, y_orig\n",
    "\n"
   ]
  },
  {
   "cell_type": "code",
   "execution_count": 13,
   "metadata": {},
   "outputs": [
    {
     "name": "stdout",
     "output_type": "stream",
     "text": [
      "++ Loading projects\n"
     ]
    },
    {
     "ename": "OSError",
     "evalue": "File /Users/MakRude/Desktop/Edu/TU_Berlin_SS20/Bachelor Thesis/SCA_w_Keras/schoolbook32/schoolbook32.cwp does not exist or is not a file",
     "output_type": "error",
     "traceback": [
      "\u001b[0;31m-------------------------------------------------------------------------\u001b[0m",
      "\u001b[0;31mOSError\u001b[0m                                 Traceback (most recent call last)",
      "\u001b[0;32m<ipython-input-13-d0e70a0ddbbb>\u001b[0m in \u001b[0;36m<module>\u001b[0;34m\u001b[0m\n\u001b[0;32m----> 1\u001b[0;31m \u001b[0mX_new\u001b[0m\u001b[0;34m,\u001b[0m \u001b[0my_l\u001b[0m\u001b[0;34m,\u001b[0m \u001b[0my_or\u001b[0m \u001b[0;34m=\u001b[0m \u001b[0mload_database2\u001b[0m\u001b[0;34m(\u001b[0m\u001b[0mmy_database\u001b[0m\u001b[0;34m)\u001b[0m\u001b[0;34m\u001b[0m\u001b[0;34m\u001b[0m\u001b[0m\n\u001b[0m",
      "\u001b[0;32m<ipython-input-12-b33f5a8b768a>\u001b[0m in \u001b[0;36mload_database2\u001b[0;34m(my_database)\u001b[0m\n\u001b[1;32m      4\u001b[0m     \u001b[0;31m# load traces\u001b[0m\u001b[0;34m\u001b[0m\u001b[0;34m\u001b[0m\u001b[0;34m\u001b[0m\u001b[0m\n\u001b[1;32m      5\u001b[0m     \u001b[0mprint\u001b[0m\u001b[0;34m(\u001b[0m\u001b[0;34m\"++ Loading projects\"\u001b[0m\u001b[0;34m)\u001b[0m\u001b[0;34m\u001b[0m\u001b[0;34m\u001b[0m\u001b[0m\n\u001b[0;32m----> 6\u001b[0;31m     \u001b[0mproject\u001b[0m \u001b[0;34m=\u001b[0m \u001b[0mcw\u001b[0m\u001b[0;34m.\u001b[0m\u001b[0mopen_project\u001b[0m\u001b[0;34m(\u001b[0m\u001b[0mmy_database\u001b[0m\u001b[0;34m)\u001b[0m\u001b[0;34m\u001b[0m\u001b[0;34m\u001b[0m\u001b[0m\n\u001b[0m\u001b[1;32m      7\u001b[0m     \u001b[0;32mglobal\u001b[0m \u001b[0mKEY_LENGTH\u001b[0m\u001b[0;34m,\u001b[0m \u001b[0mTEXT_LENGTH\u001b[0m\u001b[0;34m,\u001b[0m \u001b[0mSAMPLE_HIGH\u001b[0m\u001b[0;34m,\u001b[0m \u001b[0mTRAINING_SLICE\u001b[0m\u001b[0;34m,\u001b[0m \u001b[0mTEST_NUM\u001b[0m\u001b[0;34m,\u001b[0m \u001b[0mTEST_SLICE\u001b[0m\u001b[0;34m\u001b[0m\u001b[0;34m\u001b[0m\u001b[0m\n\u001b[1;32m      8\u001b[0m \u001b[0;34m\u001b[0m\u001b[0m\n",
      "\u001b[0;32m/opt/anaconda3/lib/python3.7/site-packages/chipwhisperer/__init__.py\u001b[0m in \u001b[0;36mopen_project\u001b[0;34m(filename)\u001b[0m\n\u001b[1;32m     75\u001b[0m \u001b[0;34m\u001b[0m\u001b[0m\n\u001b[1;32m     76\u001b[0m     \u001b[0mproj\u001b[0m \u001b[0;34m=\u001b[0m \u001b[0mproject\u001b[0m\u001b[0;34m.\u001b[0m\u001b[0mProject\u001b[0m\u001b[0;34m(\u001b[0m\u001b[0;34m)\u001b[0m\u001b[0;34m\u001b[0m\u001b[0;34m\u001b[0m\u001b[0m\n\u001b[0;32m---> 77\u001b[0;31m     \u001b[0mproj\u001b[0m\u001b[0;34m.\u001b[0m\u001b[0mload\u001b[0m\u001b[0;34m(\u001b[0m\u001b[0mfilename\u001b[0m\u001b[0;34m)\u001b[0m\u001b[0;34m\u001b[0m\u001b[0;34m\u001b[0m\u001b[0m\n\u001b[0m\u001b[1;32m     78\u001b[0m     \u001b[0;32mreturn\u001b[0m \u001b[0mproj\u001b[0m\u001b[0;34m\u001b[0m\u001b[0;34m\u001b[0m\u001b[0m\n\u001b[1;32m     79\u001b[0m \u001b[0;34m\u001b[0m\u001b[0m\n",
      "\u001b[0;32m/opt/anaconda3/lib/python3.7/site-packages/chipwhisperer/common/api/ProjectFormat.py\u001b[0m in \u001b[0;36mload\u001b[0;34m(self, f)\u001b[0m\n\u001b[1;32m    297\u001b[0m \u001b[0;34m\u001b[0m\u001b[0m\n\u001b[1;32m    298\u001b[0m         \u001b[0;32mif\u001b[0m \u001b[0;32mnot\u001b[0m \u001b[0mos\u001b[0m\u001b[0;34m.\u001b[0m\u001b[0mpath\u001b[0m\u001b[0;34m.\u001b[0m\u001b[0misfile\u001b[0m\u001b[0;34m(\u001b[0m\u001b[0mself\u001b[0m\u001b[0;34m.\u001b[0m\u001b[0mfilename\u001b[0m\u001b[0;34m)\u001b[0m\u001b[0;34m:\u001b[0m\u001b[0;34m\u001b[0m\u001b[0;34m\u001b[0m\u001b[0m\n\u001b[0;32m--> 299\u001b[0;31m             \u001b[0;32mraise\u001b[0m \u001b[0mIOError\u001b[0m\u001b[0;34m(\u001b[0m\u001b[0;34m\"File \"\u001b[0m \u001b[0;34m+\u001b[0m \u001b[0mself\u001b[0m\u001b[0;34m.\u001b[0m\u001b[0mfilename\u001b[0m \u001b[0;34m+\u001b[0m \u001b[0;34m\" does not exist or is not a file\"\u001b[0m\u001b[0;34m)\u001b[0m\u001b[0;34m\u001b[0m\u001b[0;34m\u001b[0m\u001b[0m\n\u001b[0m\u001b[1;32m    300\u001b[0m \u001b[0;34m\u001b[0m\u001b[0m\n\u001b[1;32m    301\u001b[0m         \u001b[0mself\u001b[0m\u001b[0;34m.\u001b[0m\u001b[0mconfig\u001b[0m \u001b[0;34m=\u001b[0m \u001b[0mConfigObjProj\u001b[0m\u001b[0;34m(\u001b[0m\u001b[0minfile\u001b[0m\u001b[0;34m=\u001b[0m\u001b[0mself\u001b[0m\u001b[0;34m.\u001b[0m\u001b[0mfilename\u001b[0m\u001b[0;34m,\u001b[0m \u001b[0mcallback\u001b[0m\u001b[0;34m=\u001b[0m\u001b[0mself\u001b[0m\u001b[0;34m.\u001b[0m\u001b[0mconfigObjChanged\u001b[0m\u001b[0;34m)\u001b[0m\u001b[0;34m\u001b[0m\u001b[0;34m\u001b[0m\u001b[0m\n",
      "\u001b[0;31mOSError\u001b[0m: File /Users/MakRude/Desktop/Edu/TU_Berlin_SS20/Bachelor Thesis/SCA_w_Keras/schoolbook32/schoolbook32.cwp does not exist or is not a file"
     ]
    }
   ],
   "source": [
    "X_new, y_l, y_or = load_database2(my_database)"
   ]
  },
  {
   "cell_type": "code",
   "execution_count": 14,
   "metadata": {},
   "outputs": [],
   "source": [
    "# X_new.shape"
   ]
  },
  {
   "cell_type": "code",
   "execution_count": 15,
   "metadata": {},
   "outputs": [],
   "source": [
    "# y_l.shape"
   ]
  },
  {
   "cell_type": "code",
   "execution_count": 16,
   "metadata": {},
   "outputs": [],
   "source": [
    "# print(y_or.shape)\n",
    "# print(y_or[0].shape)\n",
    "# print(y_or[0])\n",
    "\n",
    "# print()\n",
    "\n",
    "# print(y_or[1].shape)\n",
    "# print(y_or[1])\n",
    "\n",
    "# print()\n",
    "\n",
    "# print(np.array((y_or[0]*(2**8)) + y_or[1], dtype=int))"
   ]
  },
  {
   "cell_type": "code",
   "execution_count": 17,
   "metadata": {},
   "outputs": [
    {
     "ename": "NameError",
     "evalue": "name 'y_or' is not defined",
     "output_type": "error",
     "traceback": [
      "\u001b[0;31m-------------------------------------------------------------------------\u001b[0m",
      "\u001b[0;31mNameError\u001b[0m                               Traceback (most recent call last)",
      "\u001b[0;32m<ipython-input-17-7f9a2cba5f26>\u001b[0m in \u001b[0;36m<module>\u001b[0;34m\u001b[0m\n\u001b[0;32m----> 1\u001b[0;31m \u001b[0mprint\u001b[0m\u001b[0;34m(\u001b[0m\u001b[0my_or\u001b[0m\u001b[0;34m[\u001b[0m\u001b[0;36m0\u001b[0m\u001b[0;34m]\u001b[0m\u001b[0;34m)\u001b[0m\u001b[0;34m\u001b[0m\u001b[0;34m\u001b[0m\u001b[0m\n\u001b[0m\u001b[1;32m      2\u001b[0m \u001b[0;31m# print(y_or[0][0::2])\u001b[0m\u001b[0;34m\u001b[0m\u001b[0;34m\u001b[0m\u001b[0;34m\u001b[0m\u001b[0m\n\u001b[1;32m      3\u001b[0m \u001b[0;31m# print(y_or[0][::2][8]) # even indices\u001b[0m\u001b[0;34m\u001b[0m\u001b[0;34m\u001b[0m\u001b[0;34m\u001b[0m\u001b[0m\n\u001b[1;32m      4\u001b[0m \u001b[0;31m# print(y_or[0][1::2][8]) # odd indices\u001b[0m\u001b[0;34m\u001b[0m\u001b[0;34m\u001b[0m\u001b[0;34m\u001b[0m\u001b[0m\n\u001b[1;32m      5\u001b[0m \u001b[0mprint\u001b[0m\u001b[0;34m(\u001b[0m\u001b[0mnp\u001b[0m\u001b[0;34m.\u001b[0m\u001b[0marray\u001b[0m\u001b[0;34m(\u001b[0m\u001b[0;34m(\u001b[0m\u001b[0my_or\u001b[0m\u001b[0;34m.\u001b[0m\u001b[0mT\u001b[0m\u001b[0;34m[\u001b[0m\u001b[0;36m1\u001b[0m\u001b[0;34m:\u001b[0m\u001b[0;34m:\u001b[0m\u001b[0;36m2\u001b[0m\u001b[0;34m]\u001b[0m\u001b[0;34m.\u001b[0m\u001b[0mT\u001b[0m\u001b[0;34m*\u001b[0m\u001b[0;34m(\u001b[0m\u001b[0;36m2\u001b[0m\u001b[0;34m**\u001b[0m\u001b[0;36m8\u001b[0m\u001b[0;34m)\u001b[0m\u001b[0;34m)\u001b[0m \u001b[0;34m+\u001b[0m \u001b[0my_or\u001b[0m\u001b[0;34m.\u001b[0m\u001b[0mT\u001b[0m\u001b[0;34m[\u001b[0m\u001b[0;34m:\u001b[0m\u001b[0;34m:\u001b[0m\u001b[0;36m2\u001b[0m\u001b[0;34m]\u001b[0m\u001b[0;34m.\u001b[0m\u001b[0mT\u001b[0m\u001b[0;34m,\u001b[0m \u001b[0mdtype\u001b[0m\u001b[0;34m=\u001b[0m\u001b[0mnp\u001b[0m\u001b[0;34m.\u001b[0m\u001b[0mint16\u001b[0m\u001b[0;34m)\u001b[0m\u001b[0;34m.\u001b[0m\u001b[0mshape\u001b[0m\u001b[0;34m)\u001b[0m\u001b[0;34m\u001b[0m\u001b[0;34m\u001b[0m\u001b[0m\n",
      "\u001b[0;31mNameError\u001b[0m: name 'y_or' is not defined"
     ]
    }
   ],
   "source": [
    "print(y_or[0])\n",
    "# print(y_or[0][0::2])\n",
    "# print(y_or[0][::2][8]) # even indices\n",
    "# print(y_or[0][1::2][8]) # odd indices\n",
    "print(np.array((y_or.T[1::2].T*(2**8)) + y_or.T[::2].T, dtype=np.int16).shape)\n",
    "print(np.array((y_or.T[1::2].T*(2**8)) + y_or.T[::2].T, dtype=np.int16))"
   ]
  },
  {
   "cell_type": "code",
   "execution_count": 18,
   "metadata": {},
   "outputs": [
    {
     "ename": "NameError",
     "evalue": "name 'y_or' is not defined",
     "output_type": "error",
     "traceback": [
      "\u001b[0;31m-------------------------------------------------------------------------\u001b[0m",
      "\u001b[0;31mNameError\u001b[0m                               Traceback (most recent call last)",
      "\u001b[0;32m<ipython-input-18-f0cf2bbe1ab1>\u001b[0m in \u001b[0;36m<module>\u001b[0;34m\u001b[0m\n\u001b[1;32m      1\u001b[0m \u001b[0;32mfrom\u001b[0m \u001b[0mcollections\u001b[0m \u001b[0;32mimport\u001b[0m \u001b[0mCounter\u001b[0m\u001b[0;34m\u001b[0m\u001b[0;34m\u001b[0m\u001b[0m\n\u001b[0;32m----> 2\u001b[0;31m \u001b[0mprint\u001b[0m\u001b[0;34m(\u001b[0m\u001b[0mnp\u001b[0m\u001b[0;34m.\u001b[0m\u001b[0msum\u001b[0m\u001b[0;34m(\u001b[0m\u001b[0mnp\u001b[0m\u001b[0;34m.\u001b[0m\u001b[0marray\u001b[0m\u001b[0;34m(\u001b[0m\u001b[0;34m(\u001b[0m\u001b[0my_or\u001b[0m\u001b[0;34m.\u001b[0m\u001b[0mT\u001b[0m\u001b[0;34m[\u001b[0m\u001b[0;36m1\u001b[0m\u001b[0;34m:\u001b[0m\u001b[0;34m:\u001b[0m\u001b[0;36m2\u001b[0m\u001b[0;34m]\u001b[0m\u001b[0;34m.\u001b[0m\u001b[0mT\u001b[0m\u001b[0;34m*\u001b[0m\u001b[0;34m(\u001b[0m\u001b[0;36m2\u001b[0m\u001b[0;34m**\u001b[0m\u001b[0;36m8\u001b[0m\u001b[0;34m)\u001b[0m\u001b[0;34m)\u001b[0m \u001b[0;34m+\u001b[0m \u001b[0my_or\u001b[0m\u001b[0;34m.\u001b[0m\u001b[0mT\u001b[0m\u001b[0;34m[\u001b[0m\u001b[0;34m:\u001b[0m\u001b[0;34m:\u001b[0m\u001b[0;36m2\u001b[0m\u001b[0;34m]\u001b[0m\u001b[0;34m.\u001b[0m\u001b[0mT\u001b[0m\u001b[0;34m,\u001b[0m \u001b[0mdtype\u001b[0m\u001b[0;34m=\u001b[0m\u001b[0mnp\u001b[0m\u001b[0;34m.\u001b[0m\u001b[0mint16\u001b[0m\u001b[0;34m)\u001b[0m \u001b[0;34m==\u001b[0m \u001b[0;34m-\u001b[0m\u001b[0;36m1\u001b[0m\u001b[0;34m)\u001b[0m\u001b[0;34m)\u001b[0m\u001b[0;34m\u001b[0m\u001b[0;34m\u001b[0m\u001b[0m\n\u001b[0m\u001b[1;32m      3\u001b[0m \u001b[0mnp\u001b[0m\u001b[0;34m.\u001b[0m\u001b[0marray\u001b[0m\u001b[0;34m(\u001b[0m\u001b[0;34m(\u001b[0m\u001b[0my_or\u001b[0m\u001b[0;34m.\u001b[0m\u001b[0mT\u001b[0m\u001b[0;34m[\u001b[0m\u001b[0;36m1\u001b[0m\u001b[0;34m:\u001b[0m\u001b[0;34m:\u001b[0m\u001b[0;36m2\u001b[0m\u001b[0;34m]\u001b[0m\u001b[0;34m.\u001b[0m\u001b[0mT\u001b[0m\u001b[0;34m*\u001b[0m\u001b[0;34m(\u001b[0m\u001b[0;36m2\u001b[0m\u001b[0;34m**\u001b[0m\u001b[0;36m8\u001b[0m\u001b[0;34m)\u001b[0m\u001b[0;34m)\u001b[0m \u001b[0;34m+\u001b[0m \u001b[0my_or\u001b[0m\u001b[0;34m.\u001b[0m\u001b[0mT\u001b[0m\u001b[0;34m[\u001b[0m\u001b[0;34m:\u001b[0m\u001b[0;34m:\u001b[0m\u001b[0;36m2\u001b[0m\u001b[0;34m]\u001b[0m\u001b[0;34m.\u001b[0m\u001b[0mT\u001b[0m\u001b[0;34m,\u001b[0m \u001b[0mdtype\u001b[0m\u001b[0;34m=\u001b[0m\u001b[0mnp\u001b[0m\u001b[0;34m.\u001b[0m\u001b[0mint16\u001b[0m\u001b[0;34m)\u001b[0m\u001b[0;34m.\u001b[0m\u001b[0mshape\u001b[0m\u001b[0;34m\u001b[0m\u001b[0;34m\u001b[0m\u001b[0m\n",
      "\u001b[0;31mNameError\u001b[0m: name 'y_or' is not defined"
     ]
    }
   ],
   "source": [
    "from collections import Counter\n",
    "print(np.sum(np.array((y_or.T[1::2].T*(2**8)) + y_or.T[::2].T, dtype=np.int16) == -1))\n",
    "np.array((y_or.T[1::2].T*(2**8)) + y_or.T[::2].T, dtype=np.int16).shape\n"
   ]
  },
  {
   "cell_type": "code",
   "execution_count": 19,
   "metadata": {},
   "outputs": [
    {
     "data": {
      "text/plain": [
       "480000"
      ]
     },
     "execution_count": 19,
     "metadata": {},
     "output_type": "execute_result"
    }
   ],
   "source": [
    "15000 * 32"
   ]
  },
  {
   "cell_type": "code",
   "execution_count": 20,
   "metadata": {},
   "outputs": [
    {
     "data": {
      "text/plain": [
       "0.187875"
      ]
     },
     "execution_count": 20,
     "metadata": {},
     "output_type": "execute_result"
    }
   ],
   "source": [
    "90180 / 480000"
   ]
  },
  {
   "cell_type": "code",
   "execution_count": null,
   "metadata": {},
   "outputs": [],
   "source": []
  }
 ],
 "metadata": {
  "kernelspec": {
   "display_name": "Python 3",
   "language": "python",
   "name": "python3"
  },
  "language_info": {
   "codemirror_mode": {
    "name": "ipython",
    "version": 3
   },
   "file_extension": ".py",
   "mimetype": "text/x-python",
   "name": "python",
   "nbconvert_exporter": "python",
   "pygments_lexer": "ipython3",
   "version": "3.7.4"
  }
 },
 "nbformat": 4,
 "nbformat_minor": 2
}
